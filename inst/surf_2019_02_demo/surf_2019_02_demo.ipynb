{
 "cells": [
  {
   "cell_type": "code",
   "execution_count": null,
   "metadata": {},
   "outputs": [],
   "source": [
    "# 2_exploratory.r\n",
    "source(\"inst/fannie_mae/0_setup.r\")\n",
    "\n",
    "fm_with_harp = disk.frame(file.path(outpath, \"fm_with_harp\"))"
   ]
  },
  {
   "cell_type": "code",
   "execution_count": null,
   "metadata": {},
   "outputs": [],
   "source": [
    "head(fm_with_harp)\n",
    "\n",
    "nrow(fm_with_harp)\n",
    "\n",
    "# need a two stage summary\n",
    "system.time(a_wh1 <- fm_with_harp %>% \n",
    "  srckeep(c(\"default_12m\",\"monthly.rpt.prd\")) %>% \n",
    "  group_by(monthly.rpt.prd) %>% \n",
    "  summarise(\n",
    "    N = n(), \n",
    "    n_defaults = sum(default_12m, na.rm = T)) %>% \n",
    "  collect(parallel  = T) %>%\n",
    "  group_by(monthly.rpt.prd) %>% \n",
    "  summarise(\n",
    "    odr = sum(n_defaults)/sum(N)\n",
    "  ) %>% \n",
    "  rename(\n",
    "    Date = monthly.rpt.prd,\n",
    "    `Observed Default Rate%` = odr\n",
    "  ))\n",
    "  \n",
    "\n",
    "a_wh2 = a_wh1 %>% gather(key = type, value=rate, -Date)\n",
    "\n",
    "ggplot(a_wh2) + \n",
    "  geom_line(aes(x=Date, y = rate, colour = type)) +\n",
    "  ggtitle(\"Fannie Mae Observed Default Rate over time & HARP Conversion Rate\")"
   ]
  }
 ],
 "metadata": {
  "kernelspec": {
   "display_name": "R",
   "language": "R",
   "name": "ir"
  },
  "language_info": {
   "codemirror_mode": "r",
   "file_extension": ".r",
   "mimetype": "text/x-r-source",
   "name": "R",
   "pygments_lexer": "r",
   "version": "3.5.3"
  }
 },
 "nbformat": 4,
 "nbformat_minor": 2
}
